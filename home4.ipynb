{
  "nbformat": 4,
  "nbformat_minor": 0,
  "metadata": {
    "colab": {
      "provenance": []
    },
    "kernelspec": {
      "name": "python3",
      "display_name": "Python 3"
    },
    "language_info": {
      "name": "python"
    }
  },
  "cells": [
    {
      "cell_type": "code",
      "execution_count": 7,
      "metadata": {
        "id": "eQ5BlwOm6jwq",
        "outputId": "3c18f1a9-df3e-4788-a756-348c50581af1",
        "colab": {
          "base_uri": "https://localhost:8080/"
        }
      },
      "outputs": [
        {
          "output_type": "stream",
          "name": "stdout",
          "text": [
            "--2025-06-10 20:59:30--  https://d37ci6vzurychx.cloudfront.net/trip-data/yellow_tripdata_2023-01.parquet\n",
            "Resolving d37ci6vzurychx.cloudfront.net (d37ci6vzurychx.cloudfront.net)... 65.8.245.178, 65.8.245.50, 65.8.245.51, ...\n",
            "Connecting to d37ci6vzurychx.cloudfront.net (d37ci6vzurychx.cloudfront.net)|65.8.245.178|:443... connected.\n",
            "HTTP request sent, awaiting response... 200 OK\n",
            "Length: 47673370 (45M) [application/x-www-form-urlencoded]\n",
            "Saving to: ‘yellow_tripdata_2023-01.parquet’\n",
            "\n",
            "yellow_tripdata_202 100%[===================>]  45.46M  31.9MB/s    in 1.4s    \n",
            "\n",
            "2025-06-10 20:59:32 (31.9 MB/s) - ‘yellow_tripdata_2023-01.parquet’ saved [47673370/47673370]\n",
            "\n",
            "--2025-06-10 20:59:32--  https://d37ci6vzurychx.cloudfront.net/trip-data/yellow_tripdata_2023-02.parquet\n",
            "Resolving d37ci6vzurychx.cloudfront.net (d37ci6vzurychx.cloudfront.net)... 65.8.245.178, 65.8.245.50, 65.8.245.51, ...\n",
            "Connecting to d37ci6vzurychx.cloudfront.net (d37ci6vzurychx.cloudfront.net)|65.8.245.178|:443... connected.\n",
            "HTTP request sent, awaiting response... 200 OK\n",
            "Length: 47748012 (46M) [application/x-www-form-urlencoded]\n",
            "Saving to: ‘yellow_tripdata_2023-02.parquet’\n",
            "\n",
            "yellow_tripdata_202 100%[===================>]  45.54M  71.7MB/s    in 0.6s    \n",
            "\n",
            "2025-06-10 20:59:33 (71.7 MB/s) - ‘yellow_tripdata_2023-02.parquet’ saved [47748012/47748012]\n",
            "\n"
          ]
        }
      ],
      "source": [
        "!wget https://d37ci6vzurychx.cloudfront.net/trip-data/yellow_tripdata_2023-01.parquet\n",
        "!wget https://d37ci6vzurychx.cloudfront.net/trip-data/yellow_tripdata_2023-02.parquet"
      ]
    },
    {
      "cell_type": "code",
      "source": [
        "!wget https://d37ci6vzurychx.cloudfront.net/trip-data/yellow_tripdata_2023-04.parquet"
      ],
      "metadata": {
        "colab": {
          "base_uri": "https://localhost:8080/"
        },
        "id": "RfYWvcO0wUlG",
        "outputId": "61130cb8-266d-4be2-b85b-4858dd922175"
      },
      "execution_count": 60,
      "outputs": [
        {
          "output_type": "stream",
          "name": "stdout",
          "text": [
            "--2025-06-10 21:31:27--  https://d37ci6vzurychx.cloudfront.net/trip-data/yellow_tripdata_2023-04.parquet\n",
            "Resolving d37ci6vzurychx.cloudfront.net (d37ci6vzurychx.cloudfront.net)... 65.8.245.50, 65.8.245.51, 65.8.245.171, ...\n",
            "Connecting to d37ci6vzurychx.cloudfront.net (d37ci6vzurychx.cloudfront.net)|65.8.245.50|:443... connected.\n",
            "HTTP request sent, awaiting response... 200 OK\n",
            "Length: 54222699 (52M) [binary/octet-stream]\n",
            "Saving to: ‘yellow_tripdata_2023-04.parquet’\n",
            "\n",
            "yellow_tripdata_202 100%[===================>]  51.71M  68.8MB/s    in 0.8s    \n",
            "\n",
            "2025-06-10 21:31:28 (68.8 MB/s) - ‘yellow_tripdata_2023-04.parquet’ saved [54222699/54222699]\n",
            "\n"
          ]
        }
      ]
    },
    {
      "cell_type": "code",
      "source": [
        "import pandas as pd\n",
        "from sklearn.feature_extraction import DictVectorizer\n",
        "from sklearn.linear_model import LinearRegression\n",
        "from sklearn.metrics import root_mean_squared_error, mean_squared_error"
      ],
      "metadata": {
        "id": "BJ-gnZ2t62pe"
      },
      "execution_count": 8,
      "outputs": []
    },
    {
      "cell_type": "code",
      "source": [
        "def preprocess_trip_data(data):\n",
        "\n",
        "  data['tpep_dropoff_datetime'] = pd.to_datetime(data['tpep_dropoff_datetime'])\n",
        "  data['tpep_pickup_datetime'] = pd.to_datetime(data['tpep_pickup_datetime'])\n",
        "\n",
        "  categorical = ['PULocationID', 'DOLocationID']\n",
        "  data[categorical] = data[categorical].astype(str)\n",
        "\n",
        "  return data"
      ],
      "metadata": {
        "id": "m0f_ZZosUmcd"
      },
      "execution_count": 9,
      "outputs": []
    },
    {
      "cell_type": "code",
      "source": [
        "def add_trip_duration(data):\n",
        "\n",
        "  data[\"Duration\"] = data['tpep_dropoff_datetime'] - data['tpep_pickup_datetime']\n",
        "  data[\"Duration\"] = data[\"Duration\"].apply(lambda td: td.total_seconds() / 60)\n",
        "\n",
        "  return data"
      ],
      "metadata": {
        "id": "rs7Q00wgZUnR"
      },
      "execution_count": 10,
      "outputs": []
    },
    {
      "cell_type": "code",
      "source": [
        "def filter(data):\n",
        "\n",
        "  data = data[(data[\"Duration\"] >= 1) & (data[\"Duration\"] <= 60)]\n",
        "  return data"
      ],
      "metadata": {
        "id": "Qcu6DrwtbaXt"
      },
      "execution_count": 11,
      "outputs": []
    },
    {
      "cell_type": "code",
      "source": [
        "data_train = pd.read_parquet('/content/yellow_tripdata_2023-01.parquet')\n",
        "data_val = pd.read_parquet('/content/yellow_tripdata_2023-02.parquet')"
      ],
      "metadata": {
        "id": "ovuGDYZ366p3"
      },
      "execution_count": 12,
      "outputs": []
    },
    {
      "cell_type": "code",
      "source": [
        "data_val.columns"
      ],
      "metadata": {
        "colab": {
          "base_uri": "https://localhost:8080/"
        },
        "id": "CO0kvElJv3fJ",
        "outputId": "808cb7d4-c699-4743-e380-3bb38b31c1c7"
      },
      "execution_count": 56,
      "outputs": [
        {
          "output_type": "execute_result",
          "data": {
            "text/plain": [
              "Index(['VendorID', 'tpep_pickup_datetime', 'tpep_dropoff_datetime',\n",
              "       'passenger_count', 'trip_distance', 'RatecodeID', 'store_and_fwd_flag',\n",
              "       'PULocationID', 'DOLocationID', 'payment_type', 'fare_amount', 'extra',\n",
              "       'mta_tax', 'tip_amount', 'tolls_amount', 'improvement_surcharge',\n",
              "       'total_amount', 'congestion_surcharge', 'Airport_fee', 'Duration',\n",
              "       'year', 'month'],\n",
              "      dtype='object')"
            ]
          },
          "metadata": {},
          "execution_count": 56
        }
      ]
    },
    {
      "cell_type": "code",
      "source": [
        "data_train = preprocess_trip_data(data_train)\n",
        "data_val = preprocess_trip_data(data_val)"
      ],
      "metadata": {
        "id": "5MPevvpBVJ1h"
      },
      "execution_count": 13,
      "outputs": []
    },
    {
      "cell_type": "code",
      "source": [
        "data_train.shape, data_val.shape"
      ],
      "metadata": {
        "id": "WqdFFyXyYM-g",
        "colab": {
          "base_uri": "https://localhost:8080/"
        },
        "outputId": "d4e44bb9-60ed-46f4-97f5-79e629fb6c79"
      },
      "execution_count": 14,
      "outputs": [
        {
          "output_type": "execute_result",
          "data": {
            "text/plain": [
              "((3066766, 19), (2913955, 19))"
            ]
          },
          "metadata": {},
          "execution_count": 14
        }
      ]
    },
    {
      "cell_type": "code",
      "source": [
        "data_train = add_trip_duration(data_train)\n",
        "data_val = add_trip_duration(data_val)"
      ],
      "metadata": {
        "id": "NgFbNvToYnw6"
      },
      "execution_count": 15,
      "outputs": []
    },
    {
      "cell_type": "code",
      "source": [
        "data_train['Duration'].std()"
      ],
      "metadata": {
        "id": "xEePD5riamIR",
        "colab": {
          "base_uri": "https://localhost:8080/"
        },
        "outputId": "61da2398-2b73-4921-c067-b29cece799c0"
      },
      "execution_count": 16,
      "outputs": [
        {
          "output_type": "execute_result",
          "data": {
            "text/plain": [
              "42.594351241920904"
            ]
          },
          "metadata": {},
          "execution_count": 16
        }
      ]
    },
    {
      "cell_type": "code",
      "source": [
        "data_train = filter(data_train)\n",
        "data_val = filter(data_val)"
      ],
      "metadata": {
        "id": "TLZKoecsbgeG"
      },
      "execution_count": 17,
      "outputs": []
    },
    {
      "cell_type": "code",
      "source": [
        "dv = DictVectorizer()\n",
        "categorical = ['PULocationID', 'DOLocationID']\n",
        "\n",
        "train_dict = data_train[categorical].to_dict(orient=\"records\")\n",
        "X_train = dv.fit_transform(train_dict)\n",
        "y_train = data_train['Duration'].values\n",
        "print(len(dv.feature_names_))\n",
        "\n",
        "val_dict = data_val[categorical].to_dict(orient=\"records\")\n",
        "X_val = dv.transform(val_dict)\n",
        "y_val = data_val['Duration'].values"
      ],
      "metadata": {
        "id": "7Tktd28nJZGB",
        "colab": {
          "base_uri": "https://localhost:8080/"
        },
        "outputId": "8dcdf6eb-dbc6-4a78-db78-323604eaac60"
      },
      "execution_count": 18,
      "outputs": [
        {
          "output_type": "stream",
          "name": "stdout",
          "text": [
            "515\n"
          ]
        }
      ]
    },
    {
      "cell_type": "code",
      "source": [
        "reg = LinearRegression().fit(X_train, y_train)"
      ],
      "metadata": {
        "id": "_ykSxW79LDTo"
      },
      "execution_count": 19,
      "outputs": []
    },
    {
      "cell_type": "code",
      "source": [
        "y_pred = reg.predict(X_val)"
      ],
      "metadata": {
        "id": "ZLTfKUy9MNty"
      },
      "execution_count": 20,
      "outputs": []
    },
    {
      "cell_type": "code",
      "source": [
        "rmse = root_mean_squared_error(y_val, y_pred)\n",
        "rmse"
      ],
      "metadata": {
        "colab": {
          "base_uri": "https://localhost:8080/"
        },
        "id": "b66_ClI0NQlC",
        "outputId": "da86f24a-d090-4667-c3be-b6f00b97a6dc"
      },
      "execution_count": 21,
      "outputs": [
        {
          "output_type": "execute_result",
          "data": {
            "text/plain": [
              "7.811818743246608"
            ]
          },
          "metadata": {},
          "execution_count": 21
        }
      ]
    },
    {
      "cell_type": "code",
      "source": [
        "print(f\"Standard deviation of predicted duration: {y_pred.std():.2f}\")"
      ],
      "metadata": {
        "colab": {
          "base_uri": "https://localhost:8080/"
        },
        "id": "cFM5pq8Upots",
        "outputId": "f4705b17-149c-4833-9a83-93090f7c8888"
      },
      "execution_count": 26,
      "outputs": [
        {
          "output_type": "stream",
          "name": "stdout",
          "text": [
            "Standard deviation of predicted duration: 6.15\n"
          ]
        }
      ]
    },
    {
      "cell_type": "code",
      "source": [
        "df_result = pd.DataFrame()"
      ],
      "metadata": {
        "id": "6uqNpv3OppMW"
      },
      "execution_count": 28,
      "outputs": []
    },
    {
      "cell_type": "code",
      "source": [
        "data_val['year'] = data_val['tpep_pickup_datetime'].dt.year\n",
        "data_val['month'] = data_val['tpep_pickup_datetime'].dt.month"
      ],
      "metadata": {
        "id": "WpfHxVhXreiq"
      },
      "execution_count": 34,
      "outputs": []
    },
    {
      "cell_type": "code",
      "source": [
        "df_result['ride_id'] = (\n",
        "    data_val['year'].astype(str).str.zfill(4) + '/' +\n",
        "    data_val['month'].astype(str).str.zfill(2) + '_' +\n",
        "    data_val.index.astype(str)\n",
        ")"
      ],
      "metadata": {
        "id": "Mw9t9sL1qj_m"
      },
      "execution_count": 40,
      "outputs": []
    },
    {
      "cell_type": "code",
      "source": [
        "df_result[\"pred\"] = y_pred"
      ],
      "metadata": {
        "id": "SYm2Pc2Lrrzq"
      },
      "execution_count": 42,
      "outputs": []
    },
    {
      "cell_type": "code",
      "source": [
        "df_result.head()"
      ],
      "metadata": {
        "colab": {
          "base_uri": "https://localhost:8080/",
          "height": 206
        },
        "id": "Q8mWULBrsBJi",
        "outputId": "c8a8f921-8299-4d41-e293-c0dcc686b04b"
      },
      "execution_count": 43,
      "outputs": [
        {
          "output_type": "execute_result",
          "data": {
            "text/plain": [
              "     ride_id       pred\n",
              "0  2023/02_0  11.367797\n",
              "3  2023/02_3  49.694937\n",
              "4  2023/02_4  15.187994\n",
              "5  2023/02_5  11.220791\n",
              "6  2023/02_6  18.294678"
            ],
            "text/html": [
              "\n",
              "  <div id=\"df-bd69473a-970c-4fac-9287-c4f970b98457\" class=\"colab-df-container\">\n",
              "    <div>\n",
              "<style scoped>\n",
              "    .dataframe tbody tr th:only-of-type {\n",
              "        vertical-align: middle;\n",
              "    }\n",
              "\n",
              "    .dataframe tbody tr th {\n",
              "        vertical-align: top;\n",
              "    }\n",
              "\n",
              "    .dataframe thead th {\n",
              "        text-align: right;\n",
              "    }\n",
              "</style>\n",
              "<table border=\"1\" class=\"dataframe\">\n",
              "  <thead>\n",
              "    <tr style=\"text-align: right;\">\n",
              "      <th></th>\n",
              "      <th>ride_id</th>\n",
              "      <th>pred</th>\n",
              "    </tr>\n",
              "  </thead>\n",
              "  <tbody>\n",
              "    <tr>\n",
              "      <th>0</th>\n",
              "      <td>2023/02_0</td>\n",
              "      <td>11.367797</td>\n",
              "    </tr>\n",
              "    <tr>\n",
              "      <th>3</th>\n",
              "      <td>2023/02_3</td>\n",
              "      <td>49.694937</td>\n",
              "    </tr>\n",
              "    <tr>\n",
              "      <th>4</th>\n",
              "      <td>2023/02_4</td>\n",
              "      <td>15.187994</td>\n",
              "    </tr>\n",
              "    <tr>\n",
              "      <th>5</th>\n",
              "      <td>2023/02_5</td>\n",
              "      <td>11.220791</td>\n",
              "    </tr>\n",
              "    <tr>\n",
              "      <th>6</th>\n",
              "      <td>2023/02_6</td>\n",
              "      <td>18.294678</td>\n",
              "    </tr>\n",
              "  </tbody>\n",
              "</table>\n",
              "</div>\n",
              "    <div class=\"colab-df-buttons\">\n",
              "\n",
              "  <div class=\"colab-df-container\">\n",
              "    <button class=\"colab-df-convert\" onclick=\"convertToInteractive('df-bd69473a-970c-4fac-9287-c4f970b98457')\"\n",
              "            title=\"Convert this dataframe to an interactive table.\"\n",
              "            style=\"display:none;\">\n",
              "\n",
              "  <svg xmlns=\"http://www.w3.org/2000/svg\" height=\"24px\" viewBox=\"0 -960 960 960\">\n",
              "    <path d=\"M120-120v-720h720v720H120Zm60-500h600v-160H180v160Zm220 220h160v-160H400v160Zm0 220h160v-160H400v160ZM180-400h160v-160H180v160Zm440 0h160v-160H620v160ZM180-180h160v-160H180v160Zm440 0h160v-160H620v160Z\"/>\n",
              "  </svg>\n",
              "    </button>\n",
              "\n",
              "  <style>\n",
              "    .colab-df-container {\n",
              "      display:flex;\n",
              "      gap: 12px;\n",
              "    }\n",
              "\n",
              "    .colab-df-convert {\n",
              "      background-color: #E8F0FE;\n",
              "      border: none;\n",
              "      border-radius: 50%;\n",
              "      cursor: pointer;\n",
              "      display: none;\n",
              "      fill: #1967D2;\n",
              "      height: 32px;\n",
              "      padding: 0 0 0 0;\n",
              "      width: 32px;\n",
              "    }\n",
              "\n",
              "    .colab-df-convert:hover {\n",
              "      background-color: #E2EBFA;\n",
              "      box-shadow: 0px 1px 2px rgba(60, 64, 67, 0.3), 0px 1px 3px 1px rgba(60, 64, 67, 0.15);\n",
              "      fill: #174EA6;\n",
              "    }\n",
              "\n",
              "    .colab-df-buttons div {\n",
              "      margin-bottom: 4px;\n",
              "    }\n",
              "\n",
              "    [theme=dark] .colab-df-convert {\n",
              "      background-color: #3B4455;\n",
              "      fill: #D2E3FC;\n",
              "    }\n",
              "\n",
              "    [theme=dark] .colab-df-convert:hover {\n",
              "      background-color: #434B5C;\n",
              "      box-shadow: 0px 1px 3px 1px rgba(0, 0, 0, 0.15);\n",
              "      filter: drop-shadow(0px 1px 2px rgba(0, 0, 0, 0.3));\n",
              "      fill: #FFFFFF;\n",
              "    }\n",
              "  </style>\n",
              "\n",
              "    <script>\n",
              "      const buttonEl =\n",
              "        document.querySelector('#df-bd69473a-970c-4fac-9287-c4f970b98457 button.colab-df-convert');\n",
              "      buttonEl.style.display =\n",
              "        google.colab.kernel.accessAllowed ? 'block' : 'none';\n",
              "\n",
              "      async function convertToInteractive(key) {\n",
              "        const element = document.querySelector('#df-bd69473a-970c-4fac-9287-c4f970b98457');\n",
              "        const dataTable =\n",
              "          await google.colab.kernel.invokeFunction('convertToInteractive',\n",
              "                                                    [key], {});\n",
              "        if (!dataTable) return;\n",
              "\n",
              "        const docLinkHtml = 'Like what you see? Visit the ' +\n",
              "          '<a target=\"_blank\" href=https://colab.research.google.com/notebooks/data_table.ipynb>data table notebook</a>'\n",
              "          + ' to learn more about interactive tables.';\n",
              "        element.innerHTML = '';\n",
              "        dataTable['output_type'] = 'display_data';\n",
              "        await google.colab.output.renderOutput(dataTable, element);\n",
              "        const docLink = document.createElement('div');\n",
              "        docLink.innerHTML = docLinkHtml;\n",
              "        element.appendChild(docLink);\n",
              "      }\n",
              "    </script>\n",
              "  </div>\n",
              "\n",
              "\n",
              "    <div id=\"df-d9f65d5f-ab29-492a-aa36-e75d6b5d290f\">\n",
              "      <button class=\"colab-df-quickchart\" onclick=\"quickchart('df-d9f65d5f-ab29-492a-aa36-e75d6b5d290f')\"\n",
              "                title=\"Suggest charts\"\n",
              "                style=\"display:none;\">\n",
              "\n",
              "<svg xmlns=\"http://www.w3.org/2000/svg\" height=\"24px\"viewBox=\"0 0 24 24\"\n",
              "     width=\"24px\">\n",
              "    <g>\n",
              "        <path d=\"M19 3H5c-1.1 0-2 .9-2 2v14c0 1.1.9 2 2 2h14c1.1 0 2-.9 2-2V5c0-1.1-.9-2-2-2zM9 17H7v-7h2v7zm4 0h-2V7h2v10zm4 0h-2v-4h2v4z\"/>\n",
              "    </g>\n",
              "</svg>\n",
              "      </button>\n",
              "\n",
              "<style>\n",
              "  .colab-df-quickchart {\n",
              "      --bg-color: #E8F0FE;\n",
              "      --fill-color: #1967D2;\n",
              "      --hover-bg-color: #E2EBFA;\n",
              "      --hover-fill-color: #174EA6;\n",
              "      --disabled-fill-color: #AAA;\n",
              "      --disabled-bg-color: #DDD;\n",
              "  }\n",
              "\n",
              "  [theme=dark] .colab-df-quickchart {\n",
              "      --bg-color: #3B4455;\n",
              "      --fill-color: #D2E3FC;\n",
              "      --hover-bg-color: #434B5C;\n",
              "      --hover-fill-color: #FFFFFF;\n",
              "      --disabled-bg-color: #3B4455;\n",
              "      --disabled-fill-color: #666;\n",
              "  }\n",
              "\n",
              "  .colab-df-quickchart {\n",
              "    background-color: var(--bg-color);\n",
              "    border: none;\n",
              "    border-radius: 50%;\n",
              "    cursor: pointer;\n",
              "    display: none;\n",
              "    fill: var(--fill-color);\n",
              "    height: 32px;\n",
              "    padding: 0;\n",
              "    width: 32px;\n",
              "  }\n",
              "\n",
              "  .colab-df-quickchart:hover {\n",
              "    background-color: var(--hover-bg-color);\n",
              "    box-shadow: 0 1px 2px rgba(60, 64, 67, 0.3), 0 1px 3px 1px rgba(60, 64, 67, 0.15);\n",
              "    fill: var(--button-hover-fill-color);\n",
              "  }\n",
              "\n",
              "  .colab-df-quickchart-complete:disabled,\n",
              "  .colab-df-quickchart-complete:disabled:hover {\n",
              "    background-color: var(--disabled-bg-color);\n",
              "    fill: var(--disabled-fill-color);\n",
              "    box-shadow: none;\n",
              "  }\n",
              "\n",
              "  .colab-df-spinner {\n",
              "    border: 2px solid var(--fill-color);\n",
              "    border-color: transparent;\n",
              "    border-bottom-color: var(--fill-color);\n",
              "    animation:\n",
              "      spin 1s steps(1) infinite;\n",
              "  }\n",
              "\n",
              "  @keyframes spin {\n",
              "    0% {\n",
              "      border-color: transparent;\n",
              "      border-bottom-color: var(--fill-color);\n",
              "      border-left-color: var(--fill-color);\n",
              "    }\n",
              "    20% {\n",
              "      border-color: transparent;\n",
              "      border-left-color: var(--fill-color);\n",
              "      border-top-color: var(--fill-color);\n",
              "    }\n",
              "    30% {\n",
              "      border-color: transparent;\n",
              "      border-left-color: var(--fill-color);\n",
              "      border-top-color: var(--fill-color);\n",
              "      border-right-color: var(--fill-color);\n",
              "    }\n",
              "    40% {\n",
              "      border-color: transparent;\n",
              "      border-right-color: var(--fill-color);\n",
              "      border-top-color: var(--fill-color);\n",
              "    }\n",
              "    60% {\n",
              "      border-color: transparent;\n",
              "      border-right-color: var(--fill-color);\n",
              "    }\n",
              "    80% {\n",
              "      border-color: transparent;\n",
              "      border-right-color: var(--fill-color);\n",
              "      border-bottom-color: var(--fill-color);\n",
              "    }\n",
              "    90% {\n",
              "      border-color: transparent;\n",
              "      border-bottom-color: var(--fill-color);\n",
              "    }\n",
              "  }\n",
              "</style>\n",
              "\n",
              "      <script>\n",
              "        async function quickchart(key) {\n",
              "          const quickchartButtonEl =\n",
              "            document.querySelector('#' + key + ' button');\n",
              "          quickchartButtonEl.disabled = true;  // To prevent multiple clicks.\n",
              "          quickchartButtonEl.classList.add('colab-df-spinner');\n",
              "          try {\n",
              "            const charts = await google.colab.kernel.invokeFunction(\n",
              "                'suggestCharts', [key], {});\n",
              "          } catch (error) {\n",
              "            console.error('Error during call to suggestCharts:', error);\n",
              "          }\n",
              "          quickchartButtonEl.classList.remove('colab-df-spinner');\n",
              "          quickchartButtonEl.classList.add('colab-df-quickchart-complete');\n",
              "        }\n",
              "        (() => {\n",
              "          let quickchartButtonEl =\n",
              "            document.querySelector('#df-d9f65d5f-ab29-492a-aa36-e75d6b5d290f button');\n",
              "          quickchartButtonEl.style.display =\n",
              "            google.colab.kernel.accessAllowed ? 'block' : 'none';\n",
              "        })();\n",
              "      </script>\n",
              "    </div>\n",
              "\n",
              "    </div>\n",
              "  </div>\n"
            ],
            "application/vnd.google.colaboratory.intrinsic+json": {
              "type": "dataframe",
              "variable_name": "df_result"
            }
          },
          "metadata": {},
          "execution_count": 43
        }
      ]
    },
    {
      "cell_type": "code",
      "source": [
        "output_file = \"pred_file.parquet\"\n",
        "\n",
        "df_result.to_parquet(\n",
        "    output_file,\n",
        "    engine='pyarrow',\n",
        "    compression=None,\n",
        "    index=False\n",
        ")"
      ],
      "metadata": {
        "id": "ynQdI1obsk0z"
      },
      "execution_count": 46,
      "outputs": []
    },
    {
      "cell_type": "code",
      "source": [
        "data_apr = pd.read_parquet('/content/yellow_tripdata_2023-04.parquet')"
      ],
      "metadata": {
        "id": "CSFmxqfZwb_N"
      },
      "execution_count": 61,
      "outputs": []
    },
    {
      "cell_type": "code",
      "source": [
        "data_apr = preprocess_trip_data(data_apr)"
      ],
      "metadata": {
        "id": "dc18gOjSwj08"
      },
      "execution_count": 62,
      "outputs": []
    },
    {
      "cell_type": "code",
      "source": [
        "data_apr = add_trip_duration(data_apr)"
      ],
      "metadata": {
        "id": "dULbPTX5woPS"
      },
      "execution_count": 63,
      "outputs": []
    },
    {
      "cell_type": "code",
      "source": [
        "data_apr['year'] = data_apr['tpep_pickup_datetime'].dt.year\n",
        "data_apr['month'] = data_apr['tpep_pickup_datetime'].dt.month"
      ],
      "metadata": {
        "id": "OgVPgoH_wua1"
      },
      "execution_count": 64,
      "outputs": []
    },
    {
      "cell_type": "code",
      "source": [
        "def run(year, month):\n",
        "\n",
        "    val_filtered = data_apr[(data_val['year'] == year) & (data_apr['month'] == month)]\n",
        "\n",
        "    categorical = ['PULocationID', 'DOLocationID']\n",
        "\n",
        "    dv = DictVectorizer()\n",
        "    train_dict = data_train[categorical].to_dict(orient=\"records\")\n",
        "    X_train = dv.fit_transform(train_dict)\n",
        "    y_train = data_train['Duration'].values\n",
        "\n",
        "    val_dict = val_filtered[categorical].to_dict(orient=\"records\")\n",
        "    X_val = dv.transform(val_dict)\n",
        "\n",
        "    reg = LinearRegression().fit(X_train, y_train)\n",
        "    y_pred = reg.predict(X_val)\n",
        "\n",
        "    print(round(y_pred.mean(), 2))\n",
        "\n",
        "\n",
        "# Run for April 2023 as per the assinment\n",
        "run(2023, 4)"
      ],
      "metadata": {
        "colab": {
          "base_uri": "https://localhost:8080/"
        },
        "id": "nTHMkcVptuu5",
        "outputId": "ee55c301-3e3b-4fc9-c601-bbd27e30406f"
      },
      "execution_count": 65,
      "outputs": [
        {
          "output_type": "stream",
          "name": "stdout",
          "text": [
            "14.61\n"
          ]
        }
      ]
    },
    {
      "cell_type": "code",
      "source": [
        "print(data_apr[['year', 'month']].drop_duplicates().sort_values(['year', 'month']))\n"
      ],
      "metadata": {
        "colab": {
          "base_uri": "https://localhost:8080/"
        },
        "id": "UtcdRou6vsFq",
        "outputId": "5c5a0d82-4e49-4666-9247-e2fb3f9a7d18"
      },
      "execution_count": 59,
      "outputs": [
        {
          "output_type": "stream",
          "name": "stdout",
          "text": [
            "         year  month\n",
            "1387271  2008     12\n",
            "1312010  2009      1\n",
            "169      2023      1\n",
            "0        2023      2\n",
            "2736451  2023      3\n"
          ]
        }
      ]
    },
    {
      "cell_type": "code",
      "source": [],
      "metadata": {
        "id": "bYetB4rUwEpb"
      },
      "execution_count": null,
      "outputs": []
    }
  ]
}