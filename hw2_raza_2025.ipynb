{
 "cells": [
  {
   "cell_type": "code",
   "execution_count": 1,
   "id": "c8be79ec-0616-41d6-b57a-d0e5246c3123",
   "metadata": {},
   "outputs": [],
   "source": [
    "import mlflow"
   ]
  },
  {
   "cell_type": "code",
   "execution_count": 3,
   "id": "cf590848-b02c-4595-b7d0-299111b350b4",
   "metadata": {},
   "outputs": [
    {
     "data": {
      "text/plain": [
       "'2.22.0'"
      ]
     },
     "execution_count": 3,
     "metadata": {},
     "output_type": "execute_result"
    }
   ],
   "source": [
    "mlflow.__version__"
   ]
  },
  {
   "cell_type": "code",
   "execution_count": null,
   "id": "a35045eb",
   "metadata": {},
   "outputs": [],
   "source": [
    "!wget -P TAXI_DATA_FOLDER 'https://d37ci6vzurychx.cloudfront.net/trip-data/green_tripdata_2023-01.parquet'\n",
    "!wget -P TAXI_DATA_FOLDER 'https://d37ci6vzurychx.cloudfront.net/trip-data/green_tripdata_2023-02.parquet'\n",
    "!wget -P TAXI_DATA_FOLDER 'https://d37ci6vzurychx.cloudfront.net/trip-data/green_tripdata_2023-03.parquet'"
   ]
  },
  {
   "cell_type": "code",
   "execution_count": null,
   "id": "17c53610",
   "metadata": {},
   "outputs": [],
   "source": []
  }
 ],
 "metadata": {
  "kernelspec": {
   "display_name": "venv",
   "language": "python",
   "name": "python3"
  },
  "language_info": {
   "codemirror_mode": {
    "name": "ipython",
    "version": 3
   },
   "file_extension": ".py",
   "mimetype": "text/x-python",
   "name": "python",
   "nbconvert_exporter": "python",
   "pygments_lexer": "ipython3",
   "version": "3.12.3"
  }
 },
 "nbformat": 4,
 "nbformat_minor": 5
}
