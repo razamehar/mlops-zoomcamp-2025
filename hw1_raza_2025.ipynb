{
  "nbformat": 4,
  "nbformat_minor": 0,
  "metadata": {
    "colab": {
      "provenance": []
    },
    "kernelspec": {
      "name": "python3",
      "display_name": "Python 3"
    },
    "language_info": {
      "name": "python"
    }
  },
  "cells": [
    {
      "cell_type": "markdown",
      "source": [
        "Download data"
      ],
      "metadata": {
        "id": "L1Ag2VjIXfJk"
      }
    },
    {
      "cell_type": "code",
      "execution_count": null,
      "metadata": {
        "id": "eQ5BlwOm6jwq",
        "colab": {
          "base_uri": "https://localhost:8080/"
        },
        "outputId": "8e21420b-bd75-4a07-95c1-fdd42795f5e9"
      },
      "outputs": [
        {
          "output_type": "stream",
          "name": "stdout",
          "text": [
            "--2025-05-07 20:59:05--  https://d37ci6vzurychx.cloudfront.net/trip-data/yellow_tripdata_2023-01.parquet\n",
            "Resolving d37ci6vzurychx.cloudfront.net (d37ci6vzurychx.cloudfront.net)... 65.8.245.171, 65.8.245.50, 65.8.245.178, ...\n",
            "Connecting to d37ci6vzurychx.cloudfront.net (d37ci6vzurychx.cloudfront.net)|65.8.245.171|:443... connected.\n",
            "HTTP request sent, awaiting response... 200 OK\n",
            "Length: 47673370 (45M) [application/x-www-form-urlencoded]\n",
            "Saving to: ‘yellow_tripdata_2023-01.parquet.1’\n",
            "\n",
            "yellow_tripdata_202 100%[===================>]  45.46M  67.0MB/s    in 0.7s    \n",
            "\n",
            "2025-05-07 20:59:05 (67.0 MB/s) - ‘yellow_tripdata_2023-01.parquet.1’ saved [47673370/47673370]\n",
            "\n",
            "--2025-05-07 20:59:05--  https://d37ci6vzurychx.cloudfront.net/trip-data/yellow_tripdata_2023-02.parquet\n",
            "Resolving d37ci6vzurychx.cloudfront.net (d37ci6vzurychx.cloudfront.net)... 65.8.245.171, 65.8.245.50, 65.8.245.178, ...\n",
            "Connecting to d37ci6vzurychx.cloudfront.net (d37ci6vzurychx.cloudfront.net)|65.8.245.171|:443... connected.\n",
            "HTTP request sent, awaiting response... 200 OK\n",
            "Length: 47748012 (46M) [application/x-www-form-urlencoded]\n",
            "Saving to: ‘yellow_tripdata_2023-02.parquet.1’\n",
            "\n",
            "yellow_tripdata_202 100%[===================>]  45.54M  71.0MB/s    in 0.6s    \n",
            "\n",
            "2025-05-07 20:59:06 (71.0 MB/s) - ‘yellow_tripdata_2023-02.parquet.1’ saved [47748012/47748012]\n",
            "\n"
          ]
        }
      ],
      "source": [
        "!wget https://d37ci6vzurychx.cloudfront.net/trip-data/yellow_tripdata_2023-01.parquet\n",
        "!wget https://d37ci6vzurychx.cloudfront.net/trip-data/yellow_tripdata_2023-02.parquet"
      ]
    },
    {
      "cell_type": "markdown",
      "source": [
        "Imports"
      ],
      "metadata": {
        "id": "MyihWw1GXhn9"
      }
    },
    {
      "cell_type": "code",
      "source": [
        "import pandas as pd\n",
        "from sklearn.feature_extraction import DictVectorizer\n",
        "from sklearn.linear_model import LinearRegression\n",
        "import seaborn as sns\n",
        "import matplotlib.pyplot as plt\n",
        "from sklearn.metrics import root_mean_squared_error, mean_squared_error"
      ],
      "metadata": {
        "id": "BJ-gnZ2t62pe"
      },
      "execution_count": null,
      "outputs": []
    },
    {
      "cell_type": "markdown",
      "source": [
        "Utility function"
      ],
      "metadata": {
        "id": "IqD5QPezXjLI"
      }
    },
    {
      "cell_type": "code",
      "source": [
        "def preprocess_trip_data(df):\n",
        "\n",
        "  df['tpep_dropoff_datetime'] = pd.to_datetime(df['tpep_dropoff_datetime'])\n",
        "  df['tpep_pickup_datetime'] = pd.to_datetime(df['tpep_pickup_datetime'])\n",
        "\n",
        "  categorical = ['PULocationID', 'DOLocationID']\n",
        "  df[categorical] = df[categorical].astype(str)\n",
        "\n",
        "  return df"
      ],
      "metadata": {
        "id": "m0f_ZZosUmcd"
      },
      "execution_count": null,
      "outputs": []
    },
    {
      "cell_type": "code",
      "source": [
        "def add_trip_duration(df):\n",
        "\n",
        "  df[\"Duration\"] = df['tpep_dropoff_datetime'] - df['tpep_pickup_datetime']\n",
        "  df[\"Duration\"] = df[\"Duration\"].apply(lambda td: td.total_seconds() / 60)\n",
        "\n",
        "  return df"
      ],
      "metadata": {
        "id": "rs7Q00wgZUnR"
      },
      "execution_count": null,
      "outputs": []
    },
    {
      "cell_type": "code",
      "source": [
        "def filter(df):\n",
        "\n",
        "  df = df[(df[\"Duration\"] >= 1) & (df[\"Duration\"] <= 60)]\n",
        "  return df"
      ],
      "metadata": {
        "id": "Qcu6DrwtbaXt"
      },
      "execution_count": null,
      "outputs": []
    },
    {
      "cell_type": "markdown",
      "source": [
        "Read data into the dataframe"
      ],
      "metadata": {
        "id": "upQguMoCXo3-"
      }
    },
    {
      "cell_type": "code",
      "source": [
        "df_train = pd.read_parquet('/content/yellow_tripdata_2023-01.parquet')\n",
        "df_val = pd.read_parquet('/content/yellow_tripdata_2023-02.parquet')"
      ],
      "metadata": {
        "id": "ovuGDYZ366p3"
      },
      "execution_count": null,
      "outputs": []
    },
    {
      "cell_type": "code",
      "source": [
        "df_train = preprocess_trip_data(df_train)\n",
        "df_val = preprocess_trip_data(df_val)"
      ],
      "metadata": {
        "id": "5MPevvpBVJ1h"
      },
      "execution_count": null,
      "outputs": []
    },
    {
      "cell_type": "markdown",
      "source": [
        "Review data"
      ],
      "metadata": {
        "id": "_ddBcI4qYKGv"
      }
    },
    {
      "cell_type": "code",
      "source": [
        "df_train.shape, df_val.shape"
      ],
      "metadata": {
        "colab": {
          "base_uri": "https://localhost:8080/"
        },
        "id": "WqdFFyXyYM-g",
        "outputId": "186eda1f-15c9-4bd0-fd8f-ffca9bfc146c"
      },
      "execution_count": null,
      "outputs": [
        {
          "output_type": "execute_result",
          "data": {
            "text/plain": [
              "((3066766, 19), (2913955, 19))"
            ]
          },
          "metadata": {},
          "execution_count": 98
        }
      ]
    },
    {
      "cell_type": "markdown",
      "source": [
        "Feature engineering"
      ],
      "metadata": {
        "id": "K2STnR1MaZbq"
      }
    },
    {
      "cell_type": "code",
      "source": [
        "df_train = add_trip_duration(df_train)\n",
        "df_val = add_trip_duration(df_val)"
      ],
      "metadata": {
        "id": "NgFbNvToYnw6"
      },
      "execution_count": null,
      "outputs": []
    },
    {
      "cell_type": "code",
      "source": [
        "df_train['Duration'].std()"
      ],
      "metadata": {
        "colab": {
          "base_uri": "https://localhost:8080/"
        },
        "id": "xEePD5riamIR",
        "outputId": "17fce35e-6665-4e05-acc2-60e10be651a4"
      },
      "execution_count": null,
      "outputs": [
        {
          "output_type": "execute_result",
          "data": {
            "text/plain": [
              "42.594351241920904"
            ]
          },
          "metadata": {},
          "execution_count": 100
        }
      ]
    },
    {
      "cell_type": "markdown",
      "source": [
        "Filtering data"
      ],
      "metadata": {
        "id": "jvOjMe3CbW2W"
      }
    },
    {
      "cell_type": "code",
      "source": [
        "df_train = filter(df_train)\n",
        "df_val = filter(df_val)"
      ],
      "metadata": {
        "id": "TLZKoecsbgeG"
      },
      "execution_count": null,
      "outputs": []
    },
    {
      "cell_type": "markdown",
      "source": [
        "Encoding categorical features"
      ],
      "metadata": {
        "id": "Pf0FuskzX0OS"
      }
    },
    {
      "cell_type": "code",
      "source": [
        "dv = DictVectorizer()\n",
        "categorical = ['PULocationID', 'DOLocationID']\n",
        "\n",
        "train_dict = df_train[categorical].to_dict(orient=\"records\")\n",
        "X_train = dv.fit_transform(train_dict)\n",
        "y_train = df_train['Duration'].values\n",
        "print(len(dv.feature_names_))\n",
        "\n",
        "val_dict = df_val[categorical].to_dict(orient=\"records\")\n",
        "X_val = dv.transform(val_dict)\n",
        "y_val = df_val['Duration'].values"
      ],
      "metadata": {
        "id": "7Tktd28nJZGB",
        "colab": {
          "base_uri": "https://localhost:8080/"
        },
        "outputId": "0b54623f-6875-4407-9d23-e0f0d479686e"
      },
      "execution_count": null,
      "outputs": [
        {
          "output_type": "stream",
          "name": "stdout",
          "text": [
            "515\n"
          ]
        }
      ]
    },
    {
      "cell_type": "markdown",
      "source": [
        "Train the model"
      ],
      "metadata": {
        "id": "3kyMYEgTX31E"
      }
    },
    {
      "cell_type": "code",
      "source": [
        "reg = LinearRegression().fit(X_train, y_train)"
      ],
      "metadata": {
        "id": "_ykSxW79LDTo"
      },
      "execution_count": null,
      "outputs": []
    },
    {
      "cell_type": "markdown",
      "source": [
        "Predict on validation data"
      ],
      "metadata": {
        "id": "ObKPAw7zX7KV"
      }
    },
    {
      "cell_type": "code",
      "source": [
        "y_pred = reg.predict(X_val)"
      ],
      "metadata": {
        "id": "ZLTfKUy9MNty"
      },
      "execution_count": null,
      "outputs": []
    },
    {
      "cell_type": "markdown",
      "source": [
        "Calculate RMSE"
      ],
      "metadata": {
        "id": "JwIwqHvFX9wU"
      }
    },
    {
      "cell_type": "code",
      "source": [
        "rmse = root_mean_squared_error(y_val, y_pred)\n",
        "rmse"
      ],
      "metadata": {
        "colab": {
          "base_uri": "https://localhost:8080/"
        },
        "id": "b66_ClI0NQlC",
        "outputId": "77fa3726-37b7-46d2-eccb-a12de3f9b766"
      },
      "execution_count": null,
      "outputs": [
        {
          "output_type": "execute_result",
          "data": {
            "text/plain": [
              "7.811818743246608"
            ]
          },
          "metadata": {},
          "execution_count": 85
        }
      ]
    }
  ]
}